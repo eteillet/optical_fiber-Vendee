{
 "cells": [
  {
   "cell_type": "code",
   "execution_count": 3,
   "id": "8668e944",
   "metadata": {
    "scrolled": true
   },
   "outputs": [
    {
     "ename": "ModuleNotFoundError",
     "evalue": "No module named 'folium'",
     "output_type": "error",
     "traceback": [
      "\u001b[0;31m---------------------------------------------------------------------------\u001b[0m",
      "\u001b[0;31mModuleNotFoundError\u001b[0m                       Traceback (most recent call last)",
      "Input \u001b[0;32mIn [3]\u001b[0m, in \u001b[0;36m<cell line: 1>\u001b[0;34m()\u001b[0m\n\u001b[0;32m----> 1\u001b[0m \u001b[38;5;28;01mimport\u001b[39;00m \u001b[38;5;21;01mfolium\u001b[39;00m\n\u001b[1;32m      2\u001b[0m \u001b[38;5;28;01mfrom\u001b[39;00m \u001b[38;5;21;01mfolium\u001b[39;00m\u001b[38;5;21;01m.\u001b[39;00m\u001b[38;5;21;01mfeatures\u001b[39;00m \u001b[38;5;28;01mimport\u001b[39;00m GeoJsonTooltip\n\u001b[1;32m      4\u001b[0m vendee \u001b[38;5;241m=\u001b[39m folium\u001b[38;5;241m.\u001b[39mMap(\n\u001b[1;32m      5\u001b[0m     location\u001b[38;5;241m=\u001b[39m[\u001b[38;5;241m46.665800\u001b[39m, \u001b[38;5;241m-\u001b[39m\u001b[38;5;241m1.306299\u001b[39m], \u001b[38;5;66;03m# zoom on Vendee\u001b[39;00m\n\u001b[1;32m      6\u001b[0m     zoom_start\u001b[38;5;241m=\u001b[39m\u001b[38;5;241m9\u001b[39m\n\u001b[1;32m      7\u001b[0m )\n",
      "\u001b[0;31mModuleNotFoundError\u001b[0m: No module named 'folium'"
     ]
    }
   ],
   "source": [
    "import folium\n",
    "from folium.features import GeoJsonTooltip\n",
    "\n",
    "vendee = folium.Map(\n",
    "    location=[46.665800, -1.306299], # zoom on Vendee\n",
    "    zoom_start=9\n",
    ")\n",
    "\n",
    "# vendee"
   ]
  },
  {
   "cell_type": "code",
   "execution_count": null,
   "id": "bdc20834",
   "metadata": {},
   "outputs": [],
   "source": [
    "import json\n",
    "geo_cc = json.load(open(\"epci-pays-de-la-loire.geojson\"))"
   ]
  },
  {
   "cell_type": "code",
   "execution_count": null,
   "id": "b440ea93",
   "metadata": {},
   "outputs": [],
   "source": [
    "geo_cc.keys()"
   ]
  },
  {
   "cell_type": "code",
   "execution_count": null,
   "id": "9d5f4dc6",
   "metadata": {},
   "outputs": [],
   "source": [
    "len(geo_cc[\"features\"])"
   ]
  },
  {
   "cell_type": "markdown",
   "id": "6162936c",
   "metadata": {},
   "source": [
    "Here we have all EPCI of Pays de Loire, we need to get only Vendee"
   ]
  },
  {
   "cell_type": "code",
   "execution_count": null,
   "id": "83d32ddb",
   "metadata": {},
   "outputs": [],
   "source": [
    "geo_cc[\"features\"][0][\"type\"]"
   ]
  },
  {
   "cell_type": "code",
   "execution_count": null,
   "id": "c7cd9f5c",
   "metadata": {},
   "outputs": [],
   "source": [
    "geo_cc[\"features\"][0][\"properties\"]"
   ]
  },
  {
   "cell_type": "markdown",
   "id": "446aa1b1",
   "metadata": {},
   "source": [
    "geometry = polygon with all its vertices"
   ]
  },
  {
   "cell_type": "code",
   "execution_count": null,
   "id": "dea6706c",
   "metadata": {},
   "outputs": [],
   "source": [
    "geo_cc[\"features\"][0][\"geometry\"]"
   ]
  },
  {
   "cell_type": "markdown",
   "id": "ebf5a97c",
   "metadata": {},
   "source": [
    "We put a marker on each EPCI"
   ]
  },
  {
   "cell_type": "code",
   "execution_count": null,
   "id": "c57d4c7b",
   "metadata": {
    "scrolled": true
   },
   "outputs": [],
   "source": [
    "for epci in geo_cc[\"features\"]:\n",
    "    prop = epci[\"properties\"]\n",
    "    if \"dep_epci\" in prop:\n",
    "        if prop[\"dep_epci\"] == \"85\":\n",
    "            folium.Marker(prop[\"geo_point_2d\"], popup = prop[\"etiquette\"]).add_to(vendee)\n",
    "\n",
    "vendee"
   ]
  },
  {
   "cell_type": "code",
   "execution_count": null,
   "id": "2186ddc7",
   "metadata": {},
   "outputs": [],
   "source": [
    "import pandas as pd"
   ]
  },
  {
   "cell_type": "code",
   "execution_count": null,
   "id": "1f7cc90c",
   "metadata": {},
   "outputs": [],
   "source": [
    "df = pd.read_csv(\"ftth-pays-de-la-loire.csv\")\n",
    "\n",
    "\n",
    "df.columns = df.columns.str.replace(' ', '_')\n",
    "df.columns = df.columns.str.replace('É', 'E')\n",
    "df.columns = df.columns.str.replace('é', 'e')\n",
    "\n",
    "df = df.replace(',', '', regex=True)\n",
    "\n",
    "cols = df.loc[:, df.columns.str.startswith(\"Locaux_raccordables_\")].columns\n",
    "df[cols] = df[cols].apply(pd.to_numeric, errors='ignore')\n",
    "df['Logements'] = df['Logements'].apply(pd.to_numeric, errors='ignore')\n",
    "df['Etablissements'] = df['Etablissements'].apply(pd.to_numeric, errors='ignore')\n",
    "df['Nombre_locaux_IPE_T2_2022_(somme_tous_OI)'] = df['Nombre_locaux_IPE_T2_2022_(somme_tous_OI)'].apply(pd.to_numeric, errors='ignore')\n",
    "df['Meilleure_estimation_des_locaux_T2_2022_'] = df['Meilleure_estimation_des_locaux_T2_2022_'].apply(pd.to_numeric, errors='ignore')\n",
    "\n",
    "df = df.drop(df[df[\"code_departement\"] != 85].index)\n",
    "\n",
    "df_cc = df.copy()\n",
    "df_cc = df.groupby('siren_epci', as_index=False).sum()\n",
    "\n",
    "df_cc = df_cc.drop(columns=[\n",
    "    'code_departement',\n",
    "    'Code_INSEE',\n",
    "    'code_region',\n",
    "    'Logements',\n",
    "    'Etablissements',\n",
    "    'deploiement',\n",
    "    'Nombre_locaux_IPE_T2_2022_(somme_tous_OI)',\n",
    "    'Zones_très_denses',\n",
    "    'Engagements_L._33-13_et_AMEL',\n",
    "    'Intentions_privees_hors_engagement_L._33-13',\n",
    "    'Commune_rurale',\n",
    "])\n",
    "\n",
    "df_cc.columns = df_cc.columns.str.replace('Locaux_raccordables_1er_trimestre_', 't1_')\n",
    "df_cc.columns = df_cc.columns.str.replace('Locaux_raccordables_2eme_trimestre_', 't2_')\n",
    "df_cc.columns = df_cc.columns.str.replace('Locaux_raccordables_3eme_trimestre_', 't3_')\n",
    "df_cc.columns = df_cc.columns.str.replace('Locaux_raccordables_4eme_trimestre_', 't4_')\n",
    "\n",
    "df_cc['raccordables_trim_2_2022_rate'] = df_cc.t2_2022 / df_cc.Meilleure_estimation_des_locaux_T2_2022_ * 100\n",
    "df_cc.head()\n"
   ]
  },
  {
   "cell_type": "code",
   "execution_count": null,
   "id": "385fc2ff",
   "metadata": {},
   "outputs": [],
   "source": [
    "folium.Choropleth(\n",
    "    columns=['siren_epci', 'raccordables_trim_2_2022_rate'],\n",
    "    data=df_cc,\n",
    "    fill_color='BuPu',\n",
    "    fill_opacity=0.7,\n",
    "    key_on='feature.properties.siren_epci',\n",
    "    legend_name='date_deployment',\n",
    "    line_opacity=0.2,\n",
    "    geo_data='epci-pays-de-la-loire.geojson',\n",
    "    name='rate_by_epci_vendee'\n",
    ").add_to(vendee)\n",
    "\n",
    "folium.LayerControl().add_to(vendee)\n",
    "\n",
    "# vendee.save('index.html')\n",
    "# vendee"
   ]
  },
  {
   "cell_type": "code",
   "execution_count": null,
   "id": "b8e797fd",
   "metadata": {},
   "outputs": [],
   "source": [
    "df_city = df.copy()\n",
    "df_city = df_city.drop(columns=[\n",
    "    'code_departement',\n",
    "    'code_region',\n",
    "    'Logements',\n",
    "    'Etablissements',\n",
    "    'deploiement',\n",
    "    'Nombre_locaux_IPE_T2_2022_(somme_tous_OI)',\n",
    "    'Zones_très_denses',\n",
    "    'Engagements_L._33-13_et_AMEL',\n",
    "    'Intentions_privees_hors_engagement_L._33-13',\n",
    "    'Commune_rurale',\n",
    "])\n",
    "\n",
    "df_city.columns = df_city.columns.str.replace('Locaux_raccordables_1er_trimestre_', 't1_')\n",
    "df_city.columns = df_city.columns.str.replace('Locaux_raccordables_2eme_trimestre_', 't2_')\n",
    "df_city.columns = df_city.columns.str.replace('Locaux_raccordables_3eme_trimestre_', 't3_')\n",
    "df_city.columns = df_city.columns.str.replace('Locaux_raccordables_4eme_trimestre_', 't4_')\n",
    "df_city[\"Code_INSEE\"] = df_city[\"Code_INSEE\"].astype(str)\n",
    "df_city['raccordables_trim_2_2022_rate'] = df_city.t2_2022 / df_city.Meilleure_estimation_des_locaux_T2_2022_ * 100\n",
    "df_city.head(3)"
   ]
  },
  {
   "cell_type": "code",
   "execution_count": null,
   "id": "89df5119",
   "metadata": {},
   "outputs": [],
   "source": [
    "vendee_city = folium.Map(\n",
    "    location=[46.665800, -1.306299], # zoom on Vendee\n",
    "    zoom_start=9\n",
    ")\n",
    "\n",
    "df_city.head()\n"
   ]
  },
  {
   "cell_type": "code",
   "execution_count": null,
   "id": "0d74d239",
   "metadata": {},
   "outputs": [],
   "source": [
    "geo_city = json.load(open(\"communes-pays-de-la-loire.geojson\"))\n",
    "\n",
    "# extract geometry and insee_comm and put them in a dataframe to merge with our df_city\n",
    "geo_lst = []\n",
    "for city in geo_city[\"features\"]:\n",
    "    prop = city[\"properties\"]\n",
    "    geo = city[\"geometry\"]\n",
    "    if \"insee_dep\" in prop:\n",
    "        if prop[\"insee_dep\"] == \"85\":\n",
    "            geo_lst.append([prop[\"insee_comm\"], prop[\"nom_comm\"], geo])\n",
    "\n",
    "df_geo = pd.DataFrame(geo_lst, columns = ['insee_comm', 'nom_comm', 'geometry'])\n",
    "\n"
   ]
  },
  {
   "cell_type": "code",
   "execution_count": null,
   "id": "830c56e4",
   "metadata": {
    "scrolled": true
   },
   "outputs": [],
   "source": [
    "# df_city_final = df_city.merge(df_geo, left_on=\"Code_INSEE\", right_on=\"insee_comm\", how=\"outer\")\n",
    "df_city_final = df_geo.merge(df_city, left_on=\"insee_comm\", right_on=\"Code_INSEE\", how=\"outer\")\n",
    "df_city_final = df_city_final[~df_city_final['geometry'].isna()]\n",
    "\n",
    "folium.Choropleth(\n",
    "    columns=['Code_INSEE', 'raccordables_trim_2_2022_rate'],\n",
    "    data=df_city_final,\n",
    "#     fill_color='BuPu',\n",
    "    fill_color='YlOrRd',\n",
    "    line_color='black',\n",
    "    fill_opacity=0.7,\n",
    "    key_on='feature.properties.insee_comm',\n",
    "    legend_name='deployment',\n",
    "    line_opacity=0.2,\n",
    "    geo_data='communes-pays-de-la-loire.geojson',\n",
    "    name='rate_by_city_vendee'\n",
    ").add_to(vendee_city)\n",
    "\n",
    "folium.LayerControl().add_to(vendee_city)\n",
    "\n",
    "\n",
    "for city in geo_city[\"features\"]:\n",
    "    prop = city[\"properties\"]\n",
    "    if \"insee_dep\" in prop:\n",
    "        if prop[\"insee_dep\"] == \"85\":\n",
    "#             folium.Marker(prop[\"geo_point_2d\"], popup = prop[\"nom_comm\"], icon=folium.Icon(color=\"green\", icon=\"info-sign\")).add_to(vendee_city)\n",
    "            folium.CircleMarker(\n",
    "                    prop[\"geo_point_2d\"],\n",
    "                    radius=1,\n",
    "                    popup=folium.Popup(prop[\"nom_comm\"]),\n",
    "                    color=\"blue\",\n",
    "                    fill=True,\n",
    "                    fill_color='#3186cc',\n",
    "                    fill_opacity=0.7,\n",
    "                    parse_html=False\n",
    "                ).add_to(vendee_city)\n",
    "# geo_city[\"features\"][0]\n",
    "# vendee_city\n",
    "\n",
    "\n",
    "# vendee_city.save('index.html')\n",
    "vendee_city\n",
    "# df_city_final.head(3)\n"
   ]
  },
  {
   "cell_type": "code",
   "execution_count": null,
   "id": "28a3c24a",
   "metadata": {},
   "outputs": [],
   "source": [
    "# geojson = {'type':'FeatureCollection', 'features':[]}\n",
    "\n",
    "# # loop through each row in the dataframe and convert each row to geojson format\n",
    "# for _, row in df_city_final.iterrows():\n",
    "#     # create a feature template to fill in\n",
    "#     feature = {'type':'Feature',\n",
    "#                'properties':{},\n",
    "#                'geometry':{'type':'Point',\n",
    "#                            'coordinates':[]}}\n",
    "\n",
    "#     # fill in the coordinates\n",
    "# #     feature['geometry']['coordinates'] = [row[lon],row[lat]]\n",
    "#     feature['geometry']['coordinates'] = row['geometry']['coordinates']\n",
    "\n",
    "#     # for each column, get the value and add it as a new feature property\n",
    "#     for prop in ['insee_comm', 'nom_comm', 'Meilleure_estimation_des_locaux_T2_2022_',  't2_2022', 'raccordables_trim_2_2022_rate']:\n",
    "#         feature['properties'][prop] = row[prop]\n",
    "\n",
    "#     # add this feature (aka, converted dataframe row) to the list of features inside our dict\n",
    "#     geojson['features'].append(feature)\n",
    "    \n",
    "# geojson"
   ]
  },
  {
   "cell_type": "code",
   "execution_count": null,
   "id": "818759f1",
   "metadata": {},
   "outputs": [],
   "source": [
    "# folium.features.GeoJson(\n",
    "#     data=geo_city,\n",
    "#     name='Deployment optical fiber rate',\n",
    "#     tooltip=folium.features.GeoJsonTooltip(\n",
    "#                         fields=['insee_comm',\n",
    "# #                                 'commune',\n",
    "# #                                 'Meilleure_estimation_des_locaux_T2_2022_',\n",
    "# #                                 't2_2022',\n",
    "#                                 'raccordables_trim_2_2022_rate'\n",
    "#                                ],\n",
    "#                         aliases=[\"Code Insee:\",\n",
    "# #                                  \"City:\",\n",
    "# #                                  \"Addresses:\",\n",
    "# #                                  \"Deployed addresses:\",\n",
    "#                                  \"% deployment:\"\n",
    "#                                 ])\n",
    "# ).add_to(vendee_city)\n",
    "\n",
    "# vendee_city"
   ]
  },
  {
   "cell_type": "code",
   "execution_count": null,
   "id": "80bb3eda",
   "metadata": {},
   "outputs": [],
   "source": []
  }
 ],
 "metadata": {
  "kernelspec": {
   "display_name": "Python 3 (ipykernel)",
   "language": "python",
   "name": "python3"
  },
  "language_info": {
   "codemirror_mode": {
    "name": "ipython",
    "version": 3
   },
   "file_extension": ".py",
   "mimetype": "text/x-python",
   "name": "python",
   "nbconvert_exporter": "python",
   "pygments_lexer": "ipython3",
   "version": "3.10.6"
  },
  "vscode": {
   "interpreter": {
    "hash": "0b4eeb05acc93bb62c34cbcd969f95e5f4a79b96dac96ba100e6830d91b604d2"
   }
  }
 },
 "nbformat": 4,
 "nbformat_minor": 5
}
